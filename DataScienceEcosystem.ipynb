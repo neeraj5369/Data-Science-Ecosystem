{
 "cells": [
  {
   "cell_type": "markdown",
   "id": "ecdb44eb-b083-47a6-8539-a59765c86ba0",
   "metadata": {},
   "source": [
    "## Data Science Tools and Ecosystem"
   ]
  },
  {
   "cell_type": "markdown",
   "id": "aa3c7be9-8a96-42ea-876e-01db6f0fd604",
   "metadata": {},
   "source": [
    "In this notebook, Data Science Tools and Ecosystem are summarized."
   ]
  },
  {
   "cell_type": "markdown",
   "id": "280e3611-1b64-4be7-83dd-dd063b8e0222",
   "metadata": {},
   "source": [
    "**Objectives**\n",
    "- List popular languages Data Scientists use\n",
    "- List commonly used libraries by Data Scientists\n",
    "- List Tools used in Data Science"
   ]
  },
  {
   "cell_type": "markdown",
   "id": "8304be94-78ad-484e-ab93-ed2bd00f0475",
   "metadata": {},
   "source": [
    "Some of the popular languages that Data Scientists use are:\n",
    "1. Python\n",
    "2. R\n",
    "3. SQL\n",
    "4. Julia\n"
   ]
  },
  {
   "cell_type": "markdown",
   "id": "cff0dfd2-2ccf-4135-b167-b99fbee54663",
   "metadata": {},
   "source": [
    "Some of the commonly used libraries used by Data Scientists include:\n",
    "1. NumPy\n",
    "2. SciPy\n",
    "3. Pandas"
   ]
  },
  {
   "cell_type": "markdown",
   "id": "79353c17-2063-4fb3-8a27-d9e84e5eff79",
   "metadata": {},
   "source": [
    "Data Science Tools\n",
    "1. Jupyter\n",
    "2. Apache Zepplin\n",
    "3. R Studio\n"
   ]
  },
  {
   "cell_type": "markdown",
   "id": "1a966019-eea7-4995-a904-a9bbd5d1f0a0",
   "metadata": {},
   "source": [
    "### Below are a few examples of evaluating arithmetic expressions in Python"
   ]
  },
  {
   "cell_type": "code",
   "execution_count": 1,
   "id": "4c237147-e4cd-4889-a072-ddc5481b7645",
   "metadata": {
    "tags": []
   },
   "outputs": [
    {
     "data": {
      "text/plain": [
       "17"
      ]
     },
     "execution_count": 1,
     "metadata": {},
     "output_type": "execute_result"
    }
   ],
   "source": [
    "# This a simple arithmetic expression to mutiply then add integers\n",
    "(3*4)+5"
   ]
  },
  {
   "cell_type": "code",
   "execution_count": 2,
   "id": "91351ff5-7dce-42db-9655-17e74a283d74",
   "metadata": {
    "tags": []
   },
   "outputs": [
    {
     "data": {
      "text/plain": [
       "3.3333333333333335"
      ]
     },
     "execution_count": 2,
     "metadata": {},
     "output_type": "execute_result"
    }
   ],
   "source": [
    "# This will convert 200 minutes to hours by diving by 60\n",
    "200/60"
   ]
  },
  {
   "cell_type": "markdown",
   "id": "edbff6c3-8c3c-4170-8566-64aab0ccceff",
   "metadata": {},
   "source": [
    "## Author\n",
    "Neeraj"
   ]
  },
  {
   "cell_type": "code",
   "execution_count": null,
   "id": "261828c3-8234-443d-8b98-18571d949772",
   "metadata": {},
   "outputs": [],
   "source": []
  }
 ],
 "metadata": {
  "kernelspec": {
   "display_name": "Python",
   "language": "python",
   "name": "conda-env-python-py"
  },
  "language_info": {
   "codemirror_mode": {
    "name": "ipython",
    "version": 3
   },
   "file_extension": ".py",
   "mimetype": "text/x-python",
   "name": "python",
   "nbconvert_exporter": "python",
   "pygments_lexer": "ipython3",
   "version": "3.7.12"
  }
 },
 "nbformat": 4,
 "nbformat_minor": 5
}
